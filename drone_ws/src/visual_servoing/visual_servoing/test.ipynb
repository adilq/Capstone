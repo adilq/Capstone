{
 "cells": [
  {
   "cell_type": "code",
   "execution_count": 102,
   "id": "5e01b102",
   "metadata": {},
   "outputs": [],
   "source": [
    "import numpy as np\n",
    "import transforms3d as tf_transformations\n",
    "import matplotlib.pyplot as plt"
   ]
  },
  {
   "cell_type": "code",
   "execution_count": 103,
   "id": "3b8df43e",
   "metadata": {},
   "outputs": [],
   "source": [
    "K = np.load('/home/ria/Capstone/drone_ws/src/visual_servoing/visual_servoing/cameraK.npy')\n",
    "gain = 1 # tune later\n",
    "prev_ev = np.zeros((8,1))\n",
    "prev_v = np.zeros((4,1))\n",
    "delta_t = 1\n",
    "depth = None"
   ]
  },
  {
   "cell_type": "code",
   "execution_count": 104,
   "id": "61c808b2",
   "metadata": {},
   "outputs": [],
   "source": [
    "pose = np.array([0, 0, 1])"
   ]
  },
  {
   "cell_type": "code",
   "execution_count": 105,
   "id": "87d90b41",
   "metadata": {},
   "outputs": [],
   "source": [
    "def get_virtual_image_coordinates(u, v, Z):\n",
    "        '''\n",
    "        args:\n",
    "            u, v: regular image coordinates\n",
    "            Z: depth\n",
    "        return:\n",
    "            u_v, v_v: virtual image coordinates\n",
    "            Z_v: depth of virtual image plane\n",
    "        '''\n",
    "        X = u*Z\n",
    "        Y = v*Z\n",
    "\n",
    "        cam_coords = np.array([[X], [Y], [Z]])\n",
    "\n",
    "        r, p, y = 0, 0, 0\n",
    "        cy = np.cos(y)\n",
    "        sy = np.sin(y)\n",
    "        cp = np.cos(p)\n",
    "        sp = np.sin(p)\n",
    "        cr = np.cos(r)\n",
    "        sr = np.sin(r)\n",
    "        C = np.array([[cy, cy*sp*sr-sy*cr, cy*sp*cr+sy*sr],\n",
    "                     [sy*cp, sy*sp*sr+cy*cr, sy*sp*cr-cy*sr],\n",
    "                     [-sp, cp*sr, cp*cr]])\n",
    "        \n",
    "        virtual_coords = C@cam_coords\n",
    "\n",
    "        X_v = virtual_coords[0]\n",
    "        Y_v = virtual_coords[1]\n",
    "        Z_v = virtual_coords[2]\n",
    "        u_v = X_v/Z_v\n",
    "        v_v = Y_v/Z_v\n",
    "\n",
    "        return u_v.item(), v_v.item(), Z_v.item()\n",
    "\n",
    "def jacobian(u_v, v_v, Z_v):\n",
    "    '''obs: 2x1 np array'''\n",
    "    J = np.array([[-1/Z_v, 0, u_v/Z_v, v_v],\n",
    "                [0, -1/Z_v, v_v/Z_v, -u_v]], dtype=np.float64)\n",
    "    return J\n",
    "\n",
    "def get_control_velocity(obs, des):\n",
    "    '''\n",
    "    obs: 2xn array of the pt coords in camera frame\n",
    "    des: 2xn array of desired pt coords in image coordinates\n",
    "    depths: nx0\n",
    "    v: 4x1\n",
    "    '''\n",
    "    global prev_ev, prev_v\n",
    "    # velocity control input\n",
    "    v = np.zeros((4, 1))\n",
    "\n",
    "    # number of points\n",
    "    n = 4\n",
    "\n",
    "    # TO-DO: vectorize this part?\n",
    "    # Calculate error\n",
    "    f = K[0,0] # assuming for now xy focal lengths are the same\n",
    "    cx = K[0,2]\n",
    "    cy = K[1,2]\n",
    "\n",
    "    u_i = (obs[0, 0] - cx) / f\n",
    "    v_i = (obs[1, 0] - cy) / f\n",
    "    u_v, v_v, Z_v = get_virtual_image_coordinates(u_i, v_i, pose[2])\n",
    "    J = jacobian(u_v, v_v, Z_v)\n",
    "    u_di = (des[0, 0] - cx) / f\n",
    "    v_di = (des[1, 0] - cy) / f\n",
    "    u_dv, v_dv, Z_dv = get_virtual_image_coordinates(u_di, v_di, pose[2])\n",
    "    ev = np.array([[u_v],[v_v]]) - np.array([[u_dv],[v_dv]])\n",
    "    print(ev.shape)\n",
    "    for i in range(1, n):\n",
    "        u_i = (obs[0, i] - cx) / f\n",
    "        v_i = (obs[1, i] - cy) / f\n",
    "        u_v, v_v, Z_v = get_virtual_image_coordinates(u_i, v_i, pose[2])\n",
    "        J = np.vstack((J, jacobian(u_v, v_v, Z_v)))\n",
    "\n",
    "        u_di = (des[0, i] - cx) / f\n",
    "        v_di = (des[1, i] - cy) / f\n",
    "        u_dv, v_dv, Z_dv = get_virtual_image_coordinates(u_di, v_di, pose[2])\n",
    "        ev_new = np.array([[u_v],[v_v]]) - np.array([[u_dv],[v_dv]])\n",
    "        ev = np.vstack((ev, ev_new))\n",
    "\n",
    "    # Estimate motion error\n",
    "    print(ev.shape)\n",
    "    print(prev_ev.shape)\n",
    "    delta_ev = (ev - prev_ev) / (delta_t -  np.dot(J, prev_v))\n",
    "\n",
    "    # Get pseudoinverse\n",
    "    print(J.shape)\n",
    "    J_inv = np.dot(np.linalg.inv(np.dot(np.transpose(J),J)),np.transpose(J))\n",
    "    \n",
    "    # Compute v\n",
    "    print(J_inv.shape)\n",
    "    print(ev.shape)\n",
    "    print(delta_ev.shape)\n",
    "    v = -gain * np.dot(J_inv, ev) - np.dot(J_inv, delta_ev)\n",
    "\n",
    "    # Save values for next iteration\n",
    "    prev_ev = ev\n",
    "    prev_v = v\n",
    "\n",
    "    return v"
   ]
  },
  {
   "cell_type": "code",
   "execution_count": 106,
   "id": "96bfb4c9",
   "metadata": {},
   "outputs": [
    {
     "name": "stdout",
     "output_type": "stream",
     "text": [
      "[[ 25  25 -25 -25]\n",
      " [ 25 -25  25 -25]]\n",
      "[[ 75  75  25  25]\n",
      " [125  75 125  75]]\n"
     ]
    }
   ],
   "source": [
    "des = np.array([[25, 25,-25,-25],[25, -25, 25, -25]])\n",
    "obs = des + np.array([[50], [100]])\n",
    "print(des)\n",
    "print(obs)"
   ]
  },
  {
   "cell_type": "code",
   "execution_count": 107,
   "id": "36b4e674",
   "metadata": {},
   "outputs": [
    {
     "name": "stdout",
     "output_type": "stream",
     "text": [
      "(2, 1)\n",
      "(8, 1)\n",
      "(8, 1)\n",
      "(8, 4)\n",
      "(4, 8)\n",
      "(8, 1)\n",
      "(8, 1)\n"
     ]
    }
   ],
   "source": [
    "v = get_control_velocity(obs, des)"
   ]
  },
  {
   "cell_type": "code",
   "execution_count": 108,
   "id": "61384fb2",
   "metadata": {},
   "outputs": [
    {
     "name": "stdout",
     "output_type": "stream",
     "text": [
      "[[ 2.56153573e-01]\n",
      " [ 5.12307146e-01]\n",
      " [-3.10494541e-16]\n",
      " [ 1.14110022e-15]]\n"
     ]
    }
   ],
   "source": [
    "print(v)"
   ]
  },
  {
   "cell_type": "code",
   "execution_count": 109,
   "id": "0522d754",
   "metadata": {},
   "outputs": [
    {
     "data": {
      "text/plain": [
       "<matplotlib.legend.Legend at 0x7f0708364eb0>"
      ]
     },
     "execution_count": 109,
     "metadata": {},
     "output_type": "execute_result"
    },
    {
     "data": {
      "image/png": "[encoded data removed]",
      "text/plain": [
       "<Figure size 640x480 with 1 Axes>"
      ]
     },
     "metadata": {},
     "output_type": "display_data"
    }
   ],
   "source": [
    "plt.scatter(des[0], des[1], label=\"des\")\n",
    "plt.scatter(obs[0], obs[1], label=\"obs\")\n",
    "\n",
    "plt.legend()"
   ]
  },
  {
   "cell_type": "code",
   "execution_count": 111,
   "id": "922553fb",
   "metadata": {},
   "outputs": [],
   "source": [
    "K = np.load('/home/ria/Capstone/drone_ws/src/visual_servoing/visual_servoing/cameraK.npy')\n",
    "gain = 1 # tune later\n",
    "prev_ev = np.zeros((2,1))\n",
    "prev_v = np.zeros((2,1))\n",
    "delta_t = 1\n",
    "depth = None"
   ]
  },
  {
   "cell_type": "code",
   "execution_count": 112,
   "id": "90dff4f2",
   "metadata": {},
   "outputs": [],
   "source": [
    "def get_virtual_image_coordinates(u, v, Z):\n",
    "        '''\n",
    "        args:\n",
    "            u, v: regular image coordinates\n",
    "            Z: depth\n",
    "        return:\n",
    "            u_v, v_v: virtual image coordinates\n",
    "            Z_v: depth of virtual image plane\n",
    "        '''\n",
    "        X = u*Z\n",
    "        Y = v*Z\n",
    "\n",
    "        cam_coords = np.array([[X], [Y], [Z]])\n",
    "\n",
    "        r, p, y = 0, 0, 0\n",
    "        cy = np.cos(y)\n",
    "        sy = np.sin(y)\n",
    "        cp = np.cos(p)\n",
    "        sp = np.sin(p)\n",
    "        cr = np.cos(r)\n",
    "        sr = np.sin(r)\n",
    "        C = np.array([[cy, cy*sp*sr-sy*cr, cy*sp*cr+sy*sr],\n",
    "                     [sy*cp, sy*sp*sr+cy*cr, sy*sp*cr-cy*sr],\n",
    "                     [-sp, cp*sr, cp*cr]])\n",
    "        \n",
    "        virtual_coords = C@cam_coords\n",
    "\n",
    "        X_v = virtual_coords[0]\n",
    "        Y_v = virtual_coords[1]\n",
    "        Z_v = virtual_coords[2]\n",
    "        u_v = X_v/Z_v\n",
    "        v_v = Y_v/Z_v\n",
    "\n",
    "        return u_v.item(), v_v.item(), Z_v.item()\n",
    "\n",
    "def jacobian(u_v, v_v, Z_v):\n",
    "    '''obs: 2x1 np array'''\n",
    "    J = np.array([[-1/Z_v, 0],\n",
    "                [0, -1/Z_v]], dtype=np.float64)\n",
    "    return J\n",
    "\n",
    "def get_control_velocity(obs, des):\n",
    "    '''\n",
    "    obs: 2xn array of the pt coords in camera frame\n",
    "    des: 2xn array of desired pt coords in image coordinates\n",
    "    depths: nx0\n",
    "    v: 4x1\n",
    "    '''\n",
    "    global prev_ev, prev_v\n",
    "    # velocity control input\n",
    "    v = np.zeros((4, 1))\n",
    "\n",
    "    # number of points\n",
    "    n = 4\n",
    "\n",
    "    # TO-DO: vectorize this part?\n",
    "    # Calculate error\n",
    "    f = K[0,0] # assuming for now xy focal lengths are the same\n",
    "    cx = K[0,2]\n",
    "    cy = K[1,2]\n",
    "\n",
    "    u_i = (obs[0, 0] - cx) / f\n",
    "    v_i = (obs[1, 0] - cy) / f\n",
    "    u_v, v_v, Z_v = get_virtual_image_coordinates(u_i, v_i, pose[2])\n",
    "    J = jacobian(u_v, v_v, Z_v)\n",
    "    u_di = (des[0, 0] - cx) / f\n",
    "    v_di = (des[1, 0] - cy) / f\n",
    "    u_dv, v_dv, Z_dv = get_virtual_image_coordinates(u_di, v_di, pose[2])\n",
    "    ev = np.array([[u_v],[v_v]]) - np.array([[u_dv],[v_dv]])\n",
    "    print(ev.shape)\n",
    "\n",
    "    # Estimate motion error\n",
    "    print(ev.shape)\n",
    "    print(prev_ev.shape)\n",
    "    delta_ev = (ev - prev_ev) / (delta_t -  np.dot(J, prev_v))\n",
    "\n",
    "    # Get pseudoinverse\n",
    "    print(J.shape)\n",
    "    J_inv = np.dot(np.linalg.inv(np.dot(np.transpose(J),J)),np.transpose(J))\n",
    "    \n",
    "    # Compute v\n",
    "    print(J_inv.shape)\n",
    "    print(ev.shape)\n",
    "    print(delta_ev.shape)\n",
    "    v = -gain * np.dot(J_inv, ev) - np.dot(J_inv, delta_ev)\n",
    "\n",
    "    # Save values for next iteration\n",
    "    prev_ev = ev\n",
    "    prev_v = v\n",
    "\n",
    "    return v"
   ]
  },
  {
   "cell_type": "code",
   "execution_count": 114,
   "id": "e884ddc5",
   "metadata": {},
   "outputs": [
    {
     "name": "stdout",
     "output_type": "stream",
     "text": [
      "[[0]\n",
      " [0]]\n",
      "[[ 50]\n",
      " [100]]\n"
     ]
    }
   ],
   "source": [
    "des = np.array([[0],[0]])\n",
    "obs = des + np.array([[50], [100]])\n",
    "print(des)\n",
    "print(obs)\n"
   ]
  },
  {
   "cell_type": "code",
   "execution_count": 115,
   "id": "65cbe6ac",
   "metadata": {},
   "outputs": [
    {
     "name": "stdout",
     "output_type": "stream",
     "text": [
      "(2, 1)\n",
      "(2, 1)\n",
      "(2, 1)\n",
      "(2, 2)\n",
      "(2, 2)\n",
      "(2, 1)\n",
      "(2, 1)\n",
      "[[0.25615357]\n",
      " [0.51230715]]\n"
     ]
    }
   ],
   "source": [
    "v = get_control_velocity(obs, des)\n",
    "print(v)"
   ]
  },
  {
   "cell_type": "code",
   "execution_count": null,
   "id": "46a67c72",
   "metadata": {},
   "outputs": [],
   "source": []
  }
 ],
 "metadata": {
  "kernelspec": {
   "display_name": "Python 3",
   "language": "python",
   "name": "python3"
  },
  "language_info": {
   "codemirror_mode": {
    "name": "ipython",
    "version": 3
   },
   "file_extension": ".py",
   "mimetype": "text/x-python",
   "name": "python",
   "nbconvert_exporter": "python",
   "pygments_lexer": "ipython3",
   "version": "3.8.10"
  }
 },
 "nbformat": 4,
 "nbformat_minor": 5
}
