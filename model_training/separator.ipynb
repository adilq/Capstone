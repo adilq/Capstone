{
 "cells": [
  {
   "cell_type": "code",
   "execution_count": null,
   "metadata": {},
   "outputs": [],
   "source": [
    "import os\n",
    "import shutil\n",
    "    \n",
    "#OG_LABELS\n",
    "train_label_PATH = \"WAID-labels\\\\train\"\n",
    "valid_label_PATH = \"WAID-labels\\\\valid\"\n",
    "test_label_PATH = \"WAID-labels\\\\test\"\n",
    "#ZEBRAS_LABELS\n",
    "train_label_dest = \"zebras_WAID_labels\\\\train\"\n",
    "valid_label_dest = \"zebras_WAID_labels\\\\valid\"\n",
    "test_label_dest = \"zebras_WAID_labels\\\\test\"\n",
    "\n",
    "\n",
    "labels = os.listdir(valid_label_PATH)\n",
    "\n",
    "# #get zebra class image names\n",
    "# for label_file in labels:\n",
    "#     ftext = open(f\"{valid_label_PATH}\\\\{label_file}\", \"r\").read()\n",
    "#     if ftext[0] == '5':\n",
    "        \n",
    "#         print(label_file)\n",
    "#         shutil.copyfile(f\"{valid_label_PATH}\\\\{label_file}\", f\"{valid_label_dest}\\\\{label_file}\")"
   ]
  },
  {
   "cell_type": "code",
   "execution_count": null,
   "metadata": {},
   "outputs": [],
   "source": [
    "\n",
    "# OG_DATASET\n",
    "train_PATH = \"WAID-images\\\\train\"\n",
    "valid_PATH = \"WAID-images\\\\valid\"\n",
    "test_PATH = \"WAID-images\\\\test\"\n",
    "\n",
    "# ZEBRA_DATASET\n",
    "train_dest = \"zebras_WAID_images\\\\train\"\n",
    "valid_dest = \"zebras_WAID_images\\\\valid\"\n",
    "test_dest = \"zebras_WAID_images\\\\test\"\n",
    "\n",
    "# ZEBRA_LABELS\n",
    "train_label_dest = \"zebras_WAID_labels\\\\train\"\n",
    "valid_label_dest = \"zebras_WAID_labels\\\\valid\"\n",
    "test_label_dest = \"zebras_WAID_labels\\\\test\"\n",
    "\n",
    "labels = os.listdir(valid_label_dest)\n",
    "labels = [label[:-4] for label in labels]\n",
    "\n",
    "# for label in labels:\n",
    "#     print(f\"{valid_PATH}\\\\{label}.jpg\")\n",
    "#     shutil.copyfile(f\"{valid_PATH}\\\\{label}.jpg\", f\"{valid_dest}\\\\{label}.jpg\")"
   ]
  }
 ],
 "metadata": {
  "language_info": {
   "name": "python"
  }
 },
 "nbformat": 4,
 "nbformat_minor": 2
}
